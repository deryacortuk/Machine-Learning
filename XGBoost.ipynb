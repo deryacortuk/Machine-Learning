{
 "cells": [
  {
   "cell_type": "code",
   "execution_count": 1,
   "id": "44e5b422",
   "metadata": {},
   "outputs": [],
   "source": [
    "# XGBoost \n",
    "# XGBoost is an implementation of Gradient Boosted decision trees. This library was written in C++. \n",
    "#  is a type of Software library that was designed basically to improve speed and model performance.\n",
    "#  has recently been dominating in applied machine learning. "
   ]
  },
  {
   "cell_type": "code",
   "execution_count": 10,
   "id": "d052aadf",
   "metadata": {},
   "outputs": [],
   "source": [
    "from sklearn.ensemble import GradientBoostingRegressor\n",
    "import numpy as np\n",
    "import pandas as pd \n",
    "from sklearn.model_selection import train_test_split, GridSearchCV,cross_val_score, ShuffleSplit\n",
    "from sklearn.metrics import mean_squared_error, r2_score\n",
    "import matplotlib.pyplot as plt\n",
    "from sklearn.preprocessing import scale \n",
    "from sklearn import model_selection\n",
    "from sklearn.tree import DecisionTreeRegressor, DecisionTreeClassifier\n",
    "from sklearn.ensemble import BaggingRegressor\n",
    "\n",
    "from warnings import filterwarnings\n",
    "\n",
    "from sklearn.ensemble import RandomForestRegressor\n",
    "\n",
    "data = pd.read_csv(\"C:/Users/Derya/Downloads/Team_Basketball.csv\")\n",
    "df = data.copy()\n",
    "df = df.dropna()\n",
    "dms = pd.get_dummies(df[[\"League\",\"Division\",\"NewLeague\"]])\n",
    "y = df[\"Salary\"]\n",
    "X_ = df.drop([\"Salary\",\"League\",\"Division\",\"NewLeague\"], axis=1).astype(\"float64\")\n",
    "X = pd.concat([X_,dms[[\"League_N\",\"Division_W\",\"NewLeague_N\"]]], axis=1)\n",
    "X_train, X_test,y_train, y_test = train_test_split(X,y, test_size=0.25,random_state=42)\n"
   ]
  },
  {
   "cell_type": "code",
   "execution_count": 11,
   "id": "0732d257",
   "metadata": {},
   "outputs": [],
   "source": [
    "import xgboost as xgb\n",
    "from xgboost import XGBRegressor"
   ]
  },
  {
   "cell_type": "code",
   "execution_count": 12,
   "id": "8d9e390f",
   "metadata": {},
   "outputs": [],
   "source": [
    "DM_train = xgb.DMatrix(data = X_train, label = y_train)\n",
    "DM_test = xgb.DMatrix(data = X_test, label = y_test)"
   ]
  },
  {
   "cell_type": "code",
   "execution_count": 13,
   "id": "52db4041",
   "metadata": {},
   "outputs": [],
   "source": [
    "xgb_model = XGBRegressor().fit(X_train, y_train)"
   ]
  },
  {
   "cell_type": "code",
   "execution_count": 14,
   "id": "2c16b291",
   "metadata": {},
   "outputs": [
    {
     "data": {
      "text/plain": [
       "355.46515176059927"
      ]
     },
     "execution_count": 14,
     "metadata": {},
     "output_type": "execute_result"
    }
   ],
   "source": [
    "y_pred = xgb_model.predict(X_test)\n",
    "np.sqrt(mean_squared_error(y_test, y_pred))"
   ]
  },
  {
   "cell_type": "code",
   "execution_count": 15,
   "id": "434d10e3",
   "metadata": {},
   "outputs": [],
   "source": [
    "xgb_grid = {\n",
    "     'colsample_bytree': [0.4, 0.5,0.6,0.9,1], \n",
    "     'n_estimators':[100, 200, 500, 1000],\n",
    "     'max_depth': [2,3,4,5,6],\n",
    "     'learning_rate': [0.1, 0.01, 0.5]\n",
    "}"
   ]
  },
  {
   "cell_type": "code",
   "execution_count": null,
   "id": "1c0e61a3",
   "metadata": {},
   "outputs": [
    {
     "name": "stdout",
     "output_type": "stream",
     "text": [
      "Fitting 10 folds for each of 300 candidates, totalling 3000 fits\n"
     ]
    }
   ],
   "source": [
    "xgb = XGBRegressor()\n",
    "\n",
    "xgb_cv = GridSearchCV(xgb, \n",
    "                      param_grid = xgb_grid, \n",
    "                      cv = 10, \n",
    "                      n_jobs = -1,\n",
    "                      verbose = 2)\n",
    "\n",
    "\n",
    "xgb_cv.fit(X_train, y_train)"
   ]
  },
  {
   "cell_type": "code",
   "execution_count": null,
   "id": "d9d4ff03",
   "metadata": {},
   "outputs": [],
   "source": [
    "xgb_tuned = XGBRegressor(colsample_bytree = 0.9, \n",
    "                         learning_rate = 0.01, \n",
    "                         max_depth = 5, \n",
    "                         n_estimators = 1000) \n",
    "\n",
    "xgb_tuned = xgb_tuned.fit(X_train,y_train)"
   ]
  },
  {
   "cell_type": "code",
   "execution_count": null,
   "id": "f2d83026",
   "metadata": {},
   "outputs": [],
   "source": [
    "y_pred = xgb_tuned.predict(X_test)\n",
    "np.sqrt(mean_squared_error(y_test, y_pred))"
   ]
  },
  {
   "cell_type": "code",
   "execution_count": null,
   "id": "b076ff8f",
   "metadata": {},
   "outputs": [],
   "source": []
  }
 ],
 "metadata": {
  "kernelspec": {
   "display_name": "Python 3",
   "language": "python",
   "name": "python3"
  },
  "language_info": {
   "codemirror_mode": {
    "name": "ipython",
    "version": 3
   },
   "file_extension": ".py",
   "mimetype": "text/x-python",
   "name": "python",
   "nbconvert_exporter": "python",
   "pygments_lexer": "ipython3",
   "version": "3.9.16"
  }
 },
 "nbformat": 4,
 "nbformat_minor": 5
}
