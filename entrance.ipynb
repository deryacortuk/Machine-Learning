{
 "cells": [
  {
   "cell_type": "code",
   "execution_count": null,
   "id": "6680f5f5",
   "metadata": {},
   "outputs": [],
   "source": [
    " # Model Validation Method\n",
    "    # Holdout Method\n",
    "    # K Fold Cross Validation\n",
    "    # Leave One out\n",
    "    # Bootstrap Method \n",
    "    \n",
    "\n",
    " #  Success evaluation methods of models\n",
    "    # Regression\n",
    "       # Mean Squared Error\n",
    "       # Root Mean Squared Error\n",
    "       # Mean Absolute Error\n",
    "    # Classification\n",
    "       # Confusion Matrix\n",
    "          # True Positive   \n",
    "          # True Negative\n",
    "          # False Positive\n",
    "          # False Negative\n",
    "       # ROC Curve\n",
    " \n",
    "  # Evaluation of the prediction success of the models\n",
    "    # Bias-Variance Tradeoff \n",
    "    \n",
    "\n",
    "  # Improve model prediction performance\n",
    "    # parameter, hyperparameter, parameter tuning, model tuning\n",
    "    \n",
    "       \n",
    "    \n",
    "# Regression analysis is the process of estimating the relationship between a dependent variable and independent variables.\n",
    "\n",
    "# Parameters are the configuration model, which are internal to the model. Hyperparameters are the explicitly specified \n",
    "# parameters that control the training process. Parameters are essential for making predictions.\n",
    "# Hyperparameters are essential for optimizing the model.\n",
    "\n",
    "# Model tuning is the experimental process of finding the optimal values of hyperparameters to maximize model performance.\n",
    "# Hyperparameters are the set of variables whose values cannot be estimated by the model from the training data.\n",
    "# These values control the training process.\n",
    "\n",
    "# Hyperparameter optimization or tuning is the problem of choosing a set of optimal hyperparameters for a learning algorithm."
   ]
  }
 ],
 "metadata": {
  "kernelspec": {
   "display_name": "Python 3",
   "language": "python",
   "name": "python3"
  },
  "language_info": {
   "codemirror_mode": {
    "name": "ipython",
    "version": 3
   },
   "file_extension": ".py",
   "mimetype": "text/x-python",
   "name": "python",
   "nbconvert_exporter": "python",
   "pygments_lexer": "ipython3",
   "version": "3.9.16"
  }
 },
 "nbformat": 4,
 "nbformat_minor": 5
}
