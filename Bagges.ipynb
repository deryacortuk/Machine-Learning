{
 "cells": [
  {
   "cell_type": "code",
   "execution_count": 4,
   "id": "c7617378",
   "metadata": {},
   "outputs": [],
   "source": [
    "# Bagges Trees Regression\n",
    "\n",
    "# Bagging stands for Bootstrap Aggregation; it is what is known as an ensemble method — which is effectively an approach to\n",
    "# layering different models, data, algorithms, and so forth."
   ]
  },
  {
   "cell_type": "code",
   "execution_count": 5,
   "id": "42a71248",
   "metadata": {},
   "outputs": [],
   "source": [
    "import numpy as np\n",
    "import pandas as pd \n",
    "from sklearn.model_selection import train_test_split, GridSearchCV,cross_val_score, ShuffleSplit\n",
    "from sklearn.metrics import mean_squared_error, r2_score\n",
    "import matplotlib.pyplot as plt\n",
    "from sklearn.preprocessing import scale \n",
    "from sklearn import model_selection\n",
    "from sklearn.tree import DecisionTreeRegressor, DecisionTreeClassifier\n",
    "from sklearn.ensemble import BaggingRegressor\n",
    "\n",
    "from warnings import filterwarnings\n",
    "\n",
    "data = pd.read_csv(\"C:/Users/Derya/Downloads/Team_Basketball.csv\")\n",
    "df = data.copy()\n",
    "df = df.dropna()\n",
    "dms = pd.get_dummies(df[[\"League\",\"Division\",\"NewLeague\"]])\n",
    "y = df[\"Salary\"]\n",
    "X_ = df.drop([\"Salary\",\"League\",\"Division\",\"NewLeague\"], axis=1).astype(\"float\")\n",
    "X = pd.concat([X_,dms[[\"League_N\",\"Division_W\",\"NewLeague_N\"]]], axis=1)\n",
    "X_train, X_test,y_train, y_test = train_test_split(X,y, test_size=0.25,random_state=42)\n",
    "X_train = pd.DataFrame(X_train[\"Hits\"])\n",
    "X_test = pd.DataFrame(X_test[\"Hits\"])"
   ]
  },
  {
   "cell_type": "code",
   "execution_count": 6,
   "id": "39a7372b",
   "metadata": {},
   "outputs": [
    {
     "data": {
      "text/html": [
       "<style>#sk-container-id-2 {color: black;background-color: white;}#sk-container-id-2 pre{padding: 0;}#sk-container-id-2 div.sk-toggleable {background-color: white;}#sk-container-id-2 label.sk-toggleable__label {cursor: pointer;display: block;width: 100%;margin-bottom: 0;padding: 0.3em;box-sizing: border-box;text-align: center;}#sk-container-id-2 label.sk-toggleable__label-arrow:before {content: \"▸\";float: left;margin-right: 0.25em;color: #696969;}#sk-container-id-2 label.sk-toggleable__label-arrow:hover:before {color: black;}#sk-container-id-2 div.sk-estimator:hover label.sk-toggleable__label-arrow:before {color: black;}#sk-container-id-2 div.sk-toggleable__content {max-height: 0;max-width: 0;overflow: hidden;text-align: left;background-color: #f0f8ff;}#sk-container-id-2 div.sk-toggleable__content pre {margin: 0.2em;color: black;border-radius: 0.25em;background-color: #f0f8ff;}#sk-container-id-2 input.sk-toggleable__control:checked~div.sk-toggleable__content {max-height: 200px;max-width: 100%;overflow: auto;}#sk-container-id-2 input.sk-toggleable__control:checked~label.sk-toggleable__label-arrow:before {content: \"▾\";}#sk-container-id-2 div.sk-estimator input.sk-toggleable__control:checked~label.sk-toggleable__label {background-color: #d4ebff;}#sk-container-id-2 div.sk-label input.sk-toggleable__control:checked~label.sk-toggleable__label {background-color: #d4ebff;}#sk-container-id-2 input.sk-hidden--visually {border: 0;clip: rect(1px 1px 1px 1px);clip: rect(1px, 1px, 1px, 1px);height: 1px;margin: -1px;overflow: hidden;padding: 0;position: absolute;width: 1px;}#sk-container-id-2 div.sk-estimator {font-family: monospace;background-color: #f0f8ff;border: 1px dotted black;border-radius: 0.25em;box-sizing: border-box;margin-bottom: 0.5em;}#sk-container-id-2 div.sk-estimator:hover {background-color: #d4ebff;}#sk-container-id-2 div.sk-parallel-item::after {content: \"\";width: 100%;border-bottom: 1px solid gray;flex-grow: 1;}#sk-container-id-2 div.sk-label:hover label.sk-toggleable__label {background-color: #d4ebff;}#sk-container-id-2 div.sk-serial::before {content: \"\";position: absolute;border-left: 1px solid gray;box-sizing: border-box;top: 0;bottom: 0;left: 50%;z-index: 0;}#sk-container-id-2 div.sk-serial {display: flex;flex-direction: column;align-items: center;background-color: white;padding-right: 0.2em;padding-left: 0.2em;position: relative;}#sk-container-id-2 div.sk-item {position: relative;z-index: 1;}#sk-container-id-2 div.sk-parallel {display: flex;align-items: stretch;justify-content: center;background-color: white;position: relative;}#sk-container-id-2 div.sk-item::before, #sk-container-id-2 div.sk-parallel-item::before {content: \"\";position: absolute;border-left: 1px solid gray;box-sizing: border-box;top: 0;bottom: 0;left: 50%;z-index: -1;}#sk-container-id-2 div.sk-parallel-item {display: flex;flex-direction: column;z-index: 1;position: relative;background-color: white;}#sk-container-id-2 div.sk-parallel-item:first-child::after {align-self: flex-end;width: 50%;}#sk-container-id-2 div.sk-parallel-item:last-child::after {align-self: flex-start;width: 50%;}#sk-container-id-2 div.sk-parallel-item:only-child::after {width: 0;}#sk-container-id-2 div.sk-dashed-wrapped {border: 1px dashed gray;margin: 0 0.4em 0.5em 0.4em;box-sizing: border-box;padding-bottom: 0.4em;background-color: white;}#sk-container-id-2 div.sk-label label {font-family: monospace;font-weight: bold;display: inline-block;line-height: 1.2em;}#sk-container-id-2 div.sk-label-container {text-align: center;}#sk-container-id-2 div.sk-container {/* jupyter's `normalize.less` sets `[hidden] { display: none; }` but bootstrap.min.css set `[hidden] { display: none !important; }` so we also need the `!important` here to be able to override the default hidden behavior on the sphinx rendered scikit-learn.org. See: https://github.com/scikit-learn/scikit-learn/issues/21755 */display: inline-block !important;position: relative;}#sk-container-id-2 div.sk-text-repr-fallback {display: none;}</style><div id=\"sk-container-id-2\" class=\"sk-top-container\"><div class=\"sk-text-repr-fallback\"><pre>BaggingRegressor(bootstrap_features=True)</pre><b>In a Jupyter environment, please rerun this cell to show the HTML representation or trust the notebook. <br />On GitHub, the HTML representation is unable to render, please try loading this page with nbviewer.org.</b></div><div class=\"sk-container\" hidden><div class=\"sk-item\"><div class=\"sk-estimator sk-toggleable\"><input class=\"sk-toggleable__control sk-hidden--visually\" id=\"sk-estimator-id-2\" type=\"checkbox\" checked><label for=\"sk-estimator-id-2\" class=\"sk-toggleable__label sk-toggleable__label-arrow\">BaggingRegressor</label><div class=\"sk-toggleable__content\"><pre>BaggingRegressor(bootstrap_features=True)</pre></div></div></div></div></div>"
      ],
      "text/plain": [
       "BaggingRegressor(bootstrap_features=True)"
      ]
     },
     "execution_count": 6,
     "metadata": {},
     "output_type": "execute_result"
    }
   ],
   "source": [
    "bag_model = BaggingRegressor(bootstrap_features = True)\n",
    "bag_model.fit(X_train, y_train)"
   ]
  },
  {
   "cell_type": "code",
   "execution_count": 7,
   "id": "548cda20",
   "metadata": {},
   "outputs": [
    {
     "data": {
      "text/plain": [
       "10"
      ]
     },
     "execution_count": 7,
     "metadata": {},
     "output_type": "execute_result"
    }
   ],
   "source": [
    "bag_model.n_estimators"
   ]
  },
  {
   "cell_type": "code",
   "execution_count": 8,
   "id": "bd220404",
   "metadata": {},
   "outputs": [
    {
     "data": {
      "text/plain": [
       "[DecisionTreeRegressor(random_state=606050733),\n",
       " DecisionTreeRegressor(random_state=1607508105),\n",
       " DecisionTreeRegressor(random_state=118318840),\n",
       " DecisionTreeRegressor(random_state=1719417014),\n",
       " DecisionTreeRegressor(random_state=1231616287),\n",
       " DecisionTreeRegressor(random_state=2053281233),\n",
       " DecisionTreeRegressor(random_state=601764715),\n",
       " DecisionTreeRegressor(random_state=1411787923),\n",
       " DecisionTreeRegressor(random_state=407998895),\n",
       " DecisionTreeRegressor(random_state=1704082051)]"
      ]
     },
     "execution_count": 8,
     "metadata": {},
     "output_type": "execute_result"
    }
   ],
   "source": [
    "bag_model.estimators_"
   ]
  },
  {
   "cell_type": "code",
   "execution_count": 9,
   "id": "107fcff8",
   "metadata": {},
   "outputs": [
    {
     "data": {
      "text/plain": [
       "[array([173,  33, 109, 105,  61,  59, 186, 120, 180,   5, 133, 182,   5,\n",
       "        144, 103, 131,  42, 191,   9,   7,  58,  39,  49,  31, 117,  52,\n",
       "         91,  25, 170, 130,   8, 136,  30, 138, 187, 118,  63,  60,  41,\n",
       "        101, 101,  77,  72, 132, 122, 123,  91, 110, 120,  58, 104,  39,\n",
       "        143, 129,  94,  96, 128, 188,  69, 195, 105, 125,  93, 130, 106,\n",
       "         92,   5, 144, 115,  21, 193,  45, 144,  51,  40,  87, 121,  73,\n",
       "        115,  63, 115, 112,  31, 125,  98,  27,  17,  28, 146,  81, 153,\n",
       "         74,  79,   9, 160,  16,  68,  88, 125,  94,  42,  67,  62,  23,\n",
       "         51, 118, 169, 134, 165, 176, 111,  39, 168, 166,  56,  51,  22,\n",
       "        166, 105, 117,  53, 151, 179, 138, 191, 142, 117,  11, 150, 146,\n",
       "        164, 181,  88, 174,  49, 131, 103, 113,  95,  57, 132, 128,  87,\n",
       "        100,  62,  98, 164, 183,  60, 141, 190,  30, 139,  79, 147,  25,\n",
       "         92,  93,  98,  20, 177,  56,  24, 115, 154,   5,  33,  96,  45,\n",
       "        128,  24, 144, 140, 162, 113,  86, 106,  84,  11, 168, 111,  95,\n",
       "         10,   1,  88,  50, 133,  49,  90,  59, 101, 111,  29,  32, 181,\n",
       "         33,  88]),\n",
       " array([137, 193,  92, 147, 175, 180,  21, 111, 154, 178,  26, 132, 103,\n",
       "         98, 192, 191, 172,  12,   1,  30,  32,  25, 134,  63, 188, 162,\n",
       "         95, 108, 104, 190,  65,  71,  89, 181,  48,  81,  60,   3,  16,\n",
       "        141, 123, 118,  47,  54, 156,  16, 129,   3, 108, 161,  69, 129,\n",
       "        138,  79,  97,   0,  19,  89,  55, 112,  55,   9, 167, 168,  93,\n",
       "         49,  12, 106, 116, 159,   2,  74,  64,  18, 183,  56,  12, 187,\n",
       "        131,  20,  53,  54, 116,  50, 139, 150, 170,  11, 169,  37,  56,\n",
       "         30,  59,  89, 139, 137,  86,  52, 109, 125, 120,  91, 161, 151,\n",
       "         84,  85, 130, 147,  98,  98,  99,  91, 163, 117, 114, 154, 136,\n",
       "         65, 123,  68,  17,  78, 141,  46,  18,  28,  55,  59, 115, 162,\n",
       "        123, 178, 119,  37, 154,  39, 180, 130,  25, 104, 134, 117, 137,\n",
       "        160, 119, 106,  82,  98, 110, 193,  36, 153,  25, 120, 119,  76,\n",
       "         92,  19,  83, 143, 122,  67, 135,  67, 126, 155,  49, 193, 193,\n",
       "         25,  73,  75, 125, 186, 107, 103, 138,  35,  26, 118,  53,  53,\n",
       "        100, 183,  99,   5, 161, 130, 155,  97, 182,  17, 129,  74,  36,\n",
       "         28, 138]),\n",
       " array([ 23, 137, 161, 165,  11, 189,  32,  26, 113,  24, 179,  93,  60,\n",
       "        166, 140, 113, 138,   5,  15,  99, 121,  71,  29,  86, 185,  95,\n",
       "        132, 107,  98, 159,   9,  75, 130, 171, 157, 152, 111, 143,  26,\n",
       "        132, 124,  25,  17,  94, 133,  20, 118, 183, 164, 155, 181,  15,\n",
       "         42, 182, 195,  88,  22, 165, 171,  23, 152, 129, 117, 139,  63,\n",
       "        186, 125,  62,  88, 128, 157,   8, 138, 104,   6,   7,  27,  11,\n",
       "         32, 169, 188,  18, 178,  60,  48,  34,  30,  52,  26,  82, 182,\n",
       "        196,  97, 133, 150,  22,  19, 174, 176,  74,  81,  34,  11, 127,\n",
       "         41,  17,  21,  34,  41, 131, 136,  48, 164,  82, 141,  30,  20,\n",
       "        117, 192, 112,  31, 155,  52,  14,   4, 154,  46,  80, 118,  77,\n",
       "        195, 161, 174, 162, 148, 106, 131, 140,  14, 135,  66,  94,  97,\n",
       "        120,  12, 148,  60,  44,  42,  64,  49, 160, 188,  98,  72,  25,\n",
       "         18, 121, 183, 128,  74, 192, 187,  59,  77,  88, 159,  89,  57,\n",
       "         78,   0, 169, 196,  84, 101,  24, 181,  55, 121,  28, 102,  32,\n",
       "        177, 101,  50,   5,  81, 109,  72, 147,  73, 136,  54, 135,  39,\n",
       "         66, 115]),\n",
       " array([182, 175, 107,  33,  90,  65,  65,  71,  86,  18,  70,  84,  54,\n",
       "         46,  52, 188, 159, 165,  75,  97,  56,   9,  29,  59, 138, 159,\n",
       "        144,  22, 140, 153,   8,  79,  56,  52, 127, 157, 133, 148,  26,\n",
       "         38,  15,  92, 152, 115,  74, 153, 138, 181,  21, 185, 183,  26,\n",
       "        164,   3, 133, 112, 149,  17, 112, 151, 190,  16,  18, 180,  48,\n",
       "         88,  37,  56, 134,  46, 110,  71,  38,  65, 157,  73,  66,  36,\n",
       "         87,  20,  87, 128, 149,  83,  53, 170,  70,  93,  14,  67,   2,\n",
       "         98,  11, 153,  51, 129, 108,  42, 136,  53, 101, 154, 192,  20,\n",
       "        144,   8, 195,  79,  53, 188, 176, 177, 176, 127, 179, 103, 119,\n",
       "        175,  62, 191,  60, 117,  85, 100,  14, 119,  69,   8,   5,  20,\n",
       "         19,   9, 173,  76,  56, 119,  12, 129,  34, 187,  25, 120,  56,\n",
       "        114, 177,  11,  39,   1,  33,  79, 102,   3,  18,  81, 191,  80,\n",
       "          9, 191,  40, 148,  38,  15, 114, 196,  64,  42,  23, 163, 124,\n",
       "          5,  25, 123,  65,  17, 102,  18, 126,  38,  21,  75,  22,  99,\n",
       "        101, 130,  76,  47, 102, 168,  12,  58, 158,  36,  10, 187, 127,\n",
       "        168, 119]),\n",
       " array([ 31,  77,  33,  21, 167, 194, 134, 186,  68,  93, 175,  97, 181,\n",
       "         96,  63,  68, 107, 194, 111,  96, 162,  53, 147, 177,  26, 122,\n",
       "        181,  90,  12,  24, 157,  45,  64,  76,  52,  15,  75, 129,  97,\n",
       "        120,  78, 191,  40, 142,  39,   0, 167, 164, 106,  23,  70,  39,\n",
       "        174,  33,  32, 150,  95,  57, 131, 129,  68, 119,  50, 134,  21,\n",
       "        184, 182,  73,  32, 187, 150, 145,  34,  88,  26,  26, 137,  55,\n",
       "        119,  98,  96, 173,  80,  75,  99, 168, 181,  70,  63,  28,  38,\n",
       "        155,  42,  85, 165, 110, 195, 155,   7,  85, 194,  94, 159,  52,\n",
       "        177, 159, 159,  50,  53,  40,  52, 148, 162, 127,  76,  95,  39,\n",
       "        177, 140, 152, 110,  76, 182,  83, 180, 143,  41, 165,  48,  48,\n",
       "        105,  67,  98,  30, 191,  40, 159,   2,  94, 129,  89,  20, 103,\n",
       "          7, 188,  65, 186,  19, 181, 140, 166, 183,  79,  33,  31, 138,\n",
       "        194, 138, 118,  80,  51, 126, 115,   0,  20,  48,  66,  91, 183,\n",
       "        158, 161, 174, 142, 186, 109, 157, 176,  16, 139,  25, 162, 154,\n",
       "        191,  34,  36, 186,  91,  92, 127, 187, 159,  67,  85, 120, 172,\n",
       "          2, 118]),\n",
       " array([136,  72, 139, 190,  97, 107, 101,  21,  97,  46,  27, 117,  48,\n",
       "        195,  43, 126,  34,  20, 137, 182, 162, 101,  97, 130,   9,  43,\n",
       "          3,  17, 107,  79, 126, 104, 108, 123, 188,  11,  79, 177,  86,\n",
       "         90,   7,   7,  93, 164,  49, 179,  79, 131,  22,  94, 127, 184,\n",
       "         51, 181,  81,  96,  79, 161,  68, 126, 110, 179,  37,  47, 186,\n",
       "         65,  37, 185, 152, 185,   5,   9,  53,  65,  51,   4, 123,  75,\n",
       "        132,  18, 168,  30,  39,  34,  97,  25, 110, 179, 127, 191, 103,\n",
       "        155, 100,  89,  94, 107, 127,  36, 125,  57,  29,  48,  36,   6,\n",
       "        112, 136,  85,  74, 175, 169,  47, 140, 106, 158,   0,  34, 146,\n",
       "         55, 157, 144, 181,  45, 151, 105,  91,  37,  75,  19,  69, 146,\n",
       "        118, 124,  92,   4, 129,  22, 113,  68,  35,  75, 107, 149, 111,\n",
       "        119, 141,  77,  52, 140, 188,  57, 180,  73, 143,  59, 154, 166,\n",
       "        124,  73,  74,  70, 165,  12,  54,  61, 120,  66, 164, 118,  66,\n",
       "        161, 122,  86, 175,  78, 176,  91,  35,  32,  29,  19,   1, 142,\n",
       "         65,  40, 122,  97,  24, 158, 165, 148,  73, 155,   2,  97,  72,\n",
       "         62, 162]),\n",
       " array([107, 102,  47, 148,  55, 142, 178, 135,  74, 118, 192, 118, 179,\n",
       "        170, 163, 109,   8,  26, 112,  22,  22,  74,  77, 135, 138, 147,\n",
       "         13,  78, 184, 142, 148,  59,  74,  30,  27, 187, 104,  88,  86,\n",
       "         91,  39,  62, 171, 175,  46, 144,  57, 138,  16, 182, 115,  40,\n",
       "          4, 103,  85, 101, 113, 132,  96,  97, 120,  35,   7,   0,  21,\n",
       "         38, 127,  40,  15,  31, 118,  58,  94, 141,  37,  81,  26,  18,\n",
       "        134, 134,  62, 133, 124, 186, 108, 186, 127, 196, 192,  51, 153,\n",
       "         84, 106,  57, 163, 166,  63, 170,  62,  33,  82, 131, 172,  32,\n",
       "         98, 194, 140, 115,  27,   2,  55,  84,  69,  74, 163, 116, 177,\n",
       "        138, 139,  11,  87,  69, 155,  21, 101,   4, 132,   0, 103,  77,\n",
       "         39, 130, 152, 192,  19,  50, 156, 110, 121,   1, 130, 136, 113,\n",
       "        114,   7, 137, 158,   5, 115,  56,  43, 130,  65, 164,  45,  17,\n",
       "         49, 161,  51,  57, 148,  50,  30,  34,  68, 157, 185, 101,  77,\n",
       "        183,  16,   3,  94,  25, 136,  27, 182, 104, 156,  91,  10, 135,\n",
       "         63, 130, 178,  68,  46, 146,  70,  11, 170, 131,  74,  73, 106,\n",
       "         94, 156]),\n",
       " array([147, 146,  25, 115, 196, 162, 121,  20, 185,  58,  56,  87, 129,\n",
       "         47, 194, 108, 137, 103, 127,  68,  21, 117, 142, 180,  43,  65,\n",
       "         51, 153, 194,  81,  57, 115,  21, 133,  40,  94, 118, 188, 167,\n",
       "        135,  51,  30, 141,  14, 140,  72,  28,  81,  79, 122, 194, 140,\n",
       "         60, 176, 103, 179, 129, 148, 192, 136, 179, 136, 187, 194, 192,\n",
       "         98, 134,  92, 126, 112, 116,  35,  41,  38, 115, 182,  84,  54,\n",
       "         74,  46, 146,  45, 171,  13,  23, 157,  83,  38, 182,   2, 160,\n",
       "         46, 181,   1,  84,  97,  68, 185,  66,  59, 160,  82, 145, 137,\n",
       "        188, 171,  35,   4,  63, 102,  74,   7,  90,  50, 108,  26, 120,\n",
       "        170,  82,  48, 169,   1, 157,  47,  39,  44,  45,  92, 181,  70,\n",
       "        112,  25,  48,   2, 133,  59,  48, 117,  91, 107,  71, 167, 143,\n",
       "        195,  31, 195,  91,  54, 105,  34,  76,  25, 134, 180,  97,  62,\n",
       "        158, 181, 109,  27,  88, 154,  76,  38, 150, 172,  52, 107,  63,\n",
       "        177, 110,   9, 146,  32, 113, 196, 128, 140, 134,  31,  78, 131,\n",
       "        109,   7, 189, 141, 142,   3,   3, 101, 107,  30,  66, 138, 172,\n",
       "         40, 126]),\n",
       " array([175,  70,  88,  75,  68,  91, 184, 194,  28,  19,  84,   2, 176,\n",
       "         46, 179, 178,  28, 100, 111, 110,  65, 173, 104, 189, 173,  29,\n",
       "         67,  51,  94,  38, 105, 120, 127,  80, 158,  53, 118, 103,  84,\n",
       "         39, 110,   3, 125, 168,  26,  39,  41, 127,   9, 163, 164,  88,\n",
       "        194, 176, 101,  69,   6,  31, 131,  18, 170, 107,  28,  43, 185,\n",
       "        129,  29,  36, 136, 113,  29,   4, 177, 113,  13,  82,  36, 179,\n",
       "         96, 111,  14, 186,  29,  46,  92, 181, 160,  80, 182, 178, 130,\n",
       "         27, 166,  26,  21, 178, 164, 132, 107, 128, 142,  84,  63,  44,\n",
       "         51, 103, 110, 108, 101,  10,  67, 158,  53,  87, 173, 196, 114,\n",
       "         39,   4, 117,  76,  34, 173,  13, 194,  92,  21, 128,  75, 165,\n",
       "        166, 188, 126,  26, 120, 129, 160,  63, 191,  41,  40, 101, 192,\n",
       "         19, 152, 134,  24,  93, 121, 182, 140,  13,  39,  33,  70,  33,\n",
       "         28,  32, 132, 182,   9,  23,  49,  90,  61, 141,  59, 152,  99,\n",
       "         74,  83, 124, 105,  95,  12, 173,  63,  28, 176, 159, 156, 160,\n",
       "        115,  28, 156,  75,  20, 157,  84,  67,  48,  40,  12, 102, 158,\n",
       "         71,  68]),\n",
       " array([131, 122,  47,  22, 143, 159,  83,  41,  85,  30,  31, 153,  30,\n",
       "        134,  86,  76,  47, 192, 126, 127, 113, 128,  35, 131,  50,  10,\n",
       "        176,  89,  47,  80,  60,  54,  58,  30,  87,  33,  37,  31, 111,\n",
       "        192, 155,  45,  95, 117,  51,  90, 126,  63, 126,  82,  69, 131,\n",
       "         41, 116,  69,  90, 174, 191,  17,  86, 121, 114, 124,  40,  17,\n",
       "        124,  42,  25, 121,   0,  22,  56,  60,   5,  89,  80,  20, 170,\n",
       "        195,  69,  63,  65, 120,  27, 161, 166,  57,  91, 177,  92,   0,\n",
       "         23,  85,  10,  96,  10,   7,   3, 126,  56,  32,  28,  69,  55,\n",
       "         15,  87, 115,  77, 104,  11,  75,  72,  64, 118,  85, 107,  71,\n",
       "        105,   0,  93, 104,  64,  55, 116, 128,  76, 157, 117,  93, 151,\n",
       "        125,  51,  58,  63,  66,   7, 167, 187, 180, 194,  22, 149, 181,\n",
       "         67, 183,   3, 182,  46,  64,  74, 117, 110, 131,  45, 114, 111,\n",
       "        179, 149,   4,  80, 165,  17,   6,  38,  77,   4, 100,   8, 154,\n",
       "        100, 127,  37, 127, 110,  69,  24,  13,  32, 167,  85,  17,  93,\n",
       "         53,  91, 167,  86,  94, 159, 124, 140,  42,  45, 146, 111,  65,\n",
       "        155,   6])]"
      ]
     },
     "execution_count": 9,
     "metadata": {},
     "output_type": "execute_result"
    }
   ],
   "source": [
    "bag_model.estimators_samples_"
   ]
  },
  {
   "cell_type": "code",
   "execution_count": 10,
   "id": "87841510",
   "metadata": {},
   "outputs": [
    {
     "data": {
      "text/plain": [
       "[array([0]),\n",
       " array([0]),\n",
       " array([0]),\n",
       " array([0]),\n",
       " array([0]),\n",
       " array([0]),\n",
       " array([0]),\n",
       " array([0]),\n",
       " array([0]),\n",
       " array([0])]"
      ]
     },
     "execution_count": 10,
     "metadata": {},
     "output_type": "execute_result"
    }
   ],
   "source": [
    "bag_model.estimators_features_"
   ]
  },
  {
   "cell_type": "code",
   "execution_count": 12,
   "id": "2faae423",
   "metadata": {},
   "outputs": [],
   "source": [
    "y_pred = bag_model.predict(X_test)"
   ]
  },
  {
   "cell_type": "code",
   "execution_count": 13,
   "id": "fa24c4f6",
   "metadata": {},
   "outputs": [
    {
     "data": {
      "text/plain": [
       "455.0326015136946"
      ]
     },
     "execution_count": 13,
     "metadata": {},
     "output_type": "execute_result"
    }
   ],
   "source": [
    "np.sqrt(mean_squared_error(y_test, y_pred))"
   ]
  },
  {
   "cell_type": "code",
   "execution_count": 14,
   "id": "b7090c23",
   "metadata": {},
   "outputs": [],
   "source": [
    "two_y_pred = bag_model.estimators_[1].fit(X_train, y_train).predict(X_test)"
   ]
  },
  {
   "cell_type": "code",
   "execution_count": 15,
   "id": "2ddff4ab",
   "metadata": {},
   "outputs": [
    {
     "data": {
      "text/plain": [
       "468.49579052913884"
      ]
     },
     "execution_count": 15,
     "metadata": {},
     "output_type": "execute_result"
    }
   ],
   "source": [
    "np.sqrt(mean_squared_error(y_test, two_y_pred))"
   ]
  },
  {
   "cell_type": "code",
   "execution_count": 17,
   "id": "23fcfeae",
   "metadata": {},
   "outputs": [],
   "source": [
    "seven_y_pred = bag_model.estimators_[4].fit(X_train, y_train).predict(X_test)"
   ]
  },
  {
   "cell_type": "code",
   "execution_count": 18,
   "id": "362dfe65",
   "metadata": {},
   "outputs": [
    {
     "data": {
      "text/plain": [
       "468.49579052913884"
      ]
     },
     "execution_count": 18,
     "metadata": {},
     "output_type": "execute_result"
    }
   ],
   "source": [
    "np.sqrt(mean_squared_error(y_test, seven_y_pred))"
   ]
  },
  {
   "cell_type": "code",
   "execution_count": 20,
   "id": "5dd760f7",
   "metadata": {},
   "outputs": [],
   "source": [
    "bag_model = BaggingRegressor(bootstrap_features = True)\n",
    "bag_model.fit(X_train, y_train)\n",
    "bag_params = {\"n_estimators\": range(2,20)}"
   ]
  },
  {
   "cell_type": "code",
   "execution_count": 21,
   "id": "e7dfe84c",
   "metadata": {},
   "outputs": [],
   "source": [
    "bag_cv_model = GridSearchCV(bag_model, bag_params, cv = 10)"
   ]
  },
  {
   "cell_type": "code",
   "execution_count": 22,
   "id": "304c51e9",
   "metadata": {},
   "outputs": [
    {
     "data": {
      "text/html": [
       "<style>#sk-container-id-5 {color: black;background-color: white;}#sk-container-id-5 pre{padding: 0;}#sk-container-id-5 div.sk-toggleable {background-color: white;}#sk-container-id-5 label.sk-toggleable__label {cursor: pointer;display: block;width: 100%;margin-bottom: 0;padding: 0.3em;box-sizing: border-box;text-align: center;}#sk-container-id-5 label.sk-toggleable__label-arrow:before {content: \"▸\";float: left;margin-right: 0.25em;color: #696969;}#sk-container-id-5 label.sk-toggleable__label-arrow:hover:before {color: black;}#sk-container-id-5 div.sk-estimator:hover label.sk-toggleable__label-arrow:before {color: black;}#sk-container-id-5 div.sk-toggleable__content {max-height: 0;max-width: 0;overflow: hidden;text-align: left;background-color: #f0f8ff;}#sk-container-id-5 div.sk-toggleable__content pre {margin: 0.2em;color: black;border-radius: 0.25em;background-color: #f0f8ff;}#sk-container-id-5 input.sk-toggleable__control:checked~div.sk-toggleable__content {max-height: 200px;max-width: 100%;overflow: auto;}#sk-container-id-5 input.sk-toggleable__control:checked~label.sk-toggleable__label-arrow:before {content: \"▾\";}#sk-container-id-5 div.sk-estimator input.sk-toggleable__control:checked~label.sk-toggleable__label {background-color: #d4ebff;}#sk-container-id-5 div.sk-label input.sk-toggleable__control:checked~label.sk-toggleable__label {background-color: #d4ebff;}#sk-container-id-5 input.sk-hidden--visually {border: 0;clip: rect(1px 1px 1px 1px);clip: rect(1px, 1px, 1px, 1px);height: 1px;margin: -1px;overflow: hidden;padding: 0;position: absolute;width: 1px;}#sk-container-id-5 div.sk-estimator {font-family: monospace;background-color: #f0f8ff;border: 1px dotted black;border-radius: 0.25em;box-sizing: border-box;margin-bottom: 0.5em;}#sk-container-id-5 div.sk-estimator:hover {background-color: #d4ebff;}#sk-container-id-5 div.sk-parallel-item::after {content: \"\";width: 100%;border-bottom: 1px solid gray;flex-grow: 1;}#sk-container-id-5 div.sk-label:hover label.sk-toggleable__label {background-color: #d4ebff;}#sk-container-id-5 div.sk-serial::before {content: \"\";position: absolute;border-left: 1px solid gray;box-sizing: border-box;top: 0;bottom: 0;left: 50%;z-index: 0;}#sk-container-id-5 div.sk-serial {display: flex;flex-direction: column;align-items: center;background-color: white;padding-right: 0.2em;padding-left: 0.2em;position: relative;}#sk-container-id-5 div.sk-item {position: relative;z-index: 1;}#sk-container-id-5 div.sk-parallel {display: flex;align-items: stretch;justify-content: center;background-color: white;position: relative;}#sk-container-id-5 div.sk-item::before, #sk-container-id-5 div.sk-parallel-item::before {content: \"\";position: absolute;border-left: 1px solid gray;box-sizing: border-box;top: 0;bottom: 0;left: 50%;z-index: -1;}#sk-container-id-5 div.sk-parallel-item {display: flex;flex-direction: column;z-index: 1;position: relative;background-color: white;}#sk-container-id-5 div.sk-parallel-item:first-child::after {align-self: flex-end;width: 50%;}#sk-container-id-5 div.sk-parallel-item:last-child::after {align-self: flex-start;width: 50%;}#sk-container-id-5 div.sk-parallel-item:only-child::after {width: 0;}#sk-container-id-5 div.sk-dashed-wrapped {border: 1px dashed gray;margin: 0 0.4em 0.5em 0.4em;box-sizing: border-box;padding-bottom: 0.4em;background-color: white;}#sk-container-id-5 div.sk-label label {font-family: monospace;font-weight: bold;display: inline-block;line-height: 1.2em;}#sk-container-id-5 div.sk-label-container {text-align: center;}#sk-container-id-5 div.sk-container {/* jupyter's `normalize.less` sets `[hidden] { display: none; }` but bootstrap.min.css set `[hidden] { display: none !important; }` so we also need the `!important` here to be able to override the default hidden behavior on the sphinx rendered scikit-learn.org. See: https://github.com/scikit-learn/scikit-learn/issues/21755 */display: inline-block !important;position: relative;}#sk-container-id-5 div.sk-text-repr-fallback {display: none;}</style><div id=\"sk-container-id-5\" class=\"sk-top-container\"><div class=\"sk-text-repr-fallback\"><pre>GridSearchCV(cv=10, estimator=BaggingRegressor(bootstrap_features=True),\n",
       "             param_grid={&#x27;n_estimators&#x27;: range(2, 20)})</pre><b>In a Jupyter environment, please rerun this cell to show the HTML representation or trust the notebook. <br />On GitHub, the HTML representation is unable to render, please try loading this page with nbviewer.org.</b></div><div class=\"sk-container\" hidden><div class=\"sk-item sk-dashed-wrapped\"><div class=\"sk-label-container\"><div class=\"sk-label sk-toggleable\"><input class=\"sk-toggleable__control sk-hidden--visually\" id=\"sk-estimator-id-5\" type=\"checkbox\" ><label for=\"sk-estimator-id-5\" class=\"sk-toggleable__label sk-toggleable__label-arrow\">GridSearchCV</label><div class=\"sk-toggleable__content\"><pre>GridSearchCV(cv=10, estimator=BaggingRegressor(bootstrap_features=True),\n",
       "             param_grid={&#x27;n_estimators&#x27;: range(2, 20)})</pre></div></div></div><div class=\"sk-parallel\"><div class=\"sk-parallel-item\"><div class=\"sk-item\"><div class=\"sk-label-container\"><div class=\"sk-label sk-toggleable\"><input class=\"sk-toggleable__control sk-hidden--visually\" id=\"sk-estimator-id-6\" type=\"checkbox\" ><label for=\"sk-estimator-id-6\" class=\"sk-toggleable__label sk-toggleable__label-arrow\">estimator: BaggingRegressor</label><div class=\"sk-toggleable__content\"><pre>BaggingRegressor(bootstrap_features=True)</pre></div></div></div><div class=\"sk-serial\"><div class=\"sk-item\"><div class=\"sk-estimator sk-toggleable\"><input class=\"sk-toggleable__control sk-hidden--visually\" id=\"sk-estimator-id-7\" type=\"checkbox\" ><label for=\"sk-estimator-id-7\" class=\"sk-toggleable__label sk-toggleable__label-arrow\">BaggingRegressor</label><div class=\"sk-toggleable__content\"><pre>BaggingRegressor(bootstrap_features=True)</pre></div></div></div></div></div></div></div></div></div></div>"
      ],
      "text/plain": [
       "GridSearchCV(cv=10, estimator=BaggingRegressor(bootstrap_features=True),\n",
       "             param_grid={'n_estimators': range(2, 20)})"
      ]
     },
     "execution_count": 22,
     "metadata": {},
     "output_type": "execute_result"
    }
   ],
   "source": [
    "bag_cv_model.fit(X_train, y_train)"
   ]
  },
  {
   "cell_type": "code",
   "execution_count": 23,
   "id": "be170dd4",
   "metadata": {},
   "outputs": [
    {
     "data": {
      "text/plain": [
       "{'n_estimators': 13}"
      ]
     },
     "execution_count": 23,
     "metadata": {},
     "output_type": "execute_result"
    }
   ],
   "source": [
    "bag_cv_model.best_params_"
   ]
  },
  {
   "cell_type": "code",
   "execution_count": 24,
   "id": "aa7aecbf",
   "metadata": {},
   "outputs": [],
   "source": [
    "bag_tuned = BaggingRegressor( n_estimators = 14, random_state = 45)"
   ]
  },
  {
   "cell_type": "code",
   "execution_count": 25,
   "id": "d5136303",
   "metadata": {},
   "outputs": [
    {
     "data": {
      "text/html": [
       "<style>#sk-container-id-6 {color: black;background-color: white;}#sk-container-id-6 pre{padding: 0;}#sk-container-id-6 div.sk-toggleable {background-color: white;}#sk-container-id-6 label.sk-toggleable__label {cursor: pointer;display: block;width: 100%;margin-bottom: 0;padding: 0.3em;box-sizing: border-box;text-align: center;}#sk-container-id-6 label.sk-toggleable__label-arrow:before {content: \"▸\";float: left;margin-right: 0.25em;color: #696969;}#sk-container-id-6 label.sk-toggleable__label-arrow:hover:before {color: black;}#sk-container-id-6 div.sk-estimator:hover label.sk-toggleable__label-arrow:before {color: black;}#sk-container-id-6 div.sk-toggleable__content {max-height: 0;max-width: 0;overflow: hidden;text-align: left;background-color: #f0f8ff;}#sk-container-id-6 div.sk-toggleable__content pre {margin: 0.2em;color: black;border-radius: 0.25em;background-color: #f0f8ff;}#sk-container-id-6 input.sk-toggleable__control:checked~div.sk-toggleable__content {max-height: 200px;max-width: 100%;overflow: auto;}#sk-container-id-6 input.sk-toggleable__control:checked~label.sk-toggleable__label-arrow:before {content: \"▾\";}#sk-container-id-6 div.sk-estimator input.sk-toggleable__control:checked~label.sk-toggleable__label {background-color: #d4ebff;}#sk-container-id-6 div.sk-label input.sk-toggleable__control:checked~label.sk-toggleable__label {background-color: #d4ebff;}#sk-container-id-6 input.sk-hidden--visually {border: 0;clip: rect(1px 1px 1px 1px);clip: rect(1px, 1px, 1px, 1px);height: 1px;margin: -1px;overflow: hidden;padding: 0;position: absolute;width: 1px;}#sk-container-id-6 div.sk-estimator {font-family: monospace;background-color: #f0f8ff;border: 1px dotted black;border-radius: 0.25em;box-sizing: border-box;margin-bottom: 0.5em;}#sk-container-id-6 div.sk-estimator:hover {background-color: #d4ebff;}#sk-container-id-6 div.sk-parallel-item::after {content: \"\";width: 100%;border-bottom: 1px solid gray;flex-grow: 1;}#sk-container-id-6 div.sk-label:hover label.sk-toggleable__label {background-color: #d4ebff;}#sk-container-id-6 div.sk-serial::before {content: \"\";position: absolute;border-left: 1px solid gray;box-sizing: border-box;top: 0;bottom: 0;left: 50%;z-index: 0;}#sk-container-id-6 div.sk-serial {display: flex;flex-direction: column;align-items: center;background-color: white;padding-right: 0.2em;padding-left: 0.2em;position: relative;}#sk-container-id-6 div.sk-item {position: relative;z-index: 1;}#sk-container-id-6 div.sk-parallel {display: flex;align-items: stretch;justify-content: center;background-color: white;position: relative;}#sk-container-id-6 div.sk-item::before, #sk-container-id-6 div.sk-parallel-item::before {content: \"\";position: absolute;border-left: 1px solid gray;box-sizing: border-box;top: 0;bottom: 0;left: 50%;z-index: -1;}#sk-container-id-6 div.sk-parallel-item {display: flex;flex-direction: column;z-index: 1;position: relative;background-color: white;}#sk-container-id-6 div.sk-parallel-item:first-child::after {align-self: flex-end;width: 50%;}#sk-container-id-6 div.sk-parallel-item:last-child::after {align-self: flex-start;width: 50%;}#sk-container-id-6 div.sk-parallel-item:only-child::after {width: 0;}#sk-container-id-6 div.sk-dashed-wrapped {border: 1px dashed gray;margin: 0 0.4em 0.5em 0.4em;box-sizing: border-box;padding-bottom: 0.4em;background-color: white;}#sk-container-id-6 div.sk-label label {font-family: monospace;font-weight: bold;display: inline-block;line-height: 1.2em;}#sk-container-id-6 div.sk-label-container {text-align: center;}#sk-container-id-6 div.sk-container {/* jupyter's `normalize.less` sets `[hidden] { display: none; }` but bootstrap.min.css set `[hidden] { display: none !important; }` so we also need the `!important` here to be able to override the default hidden behavior on the sphinx rendered scikit-learn.org. See: https://github.com/scikit-learn/scikit-learn/issues/21755 */display: inline-block !important;position: relative;}#sk-container-id-6 div.sk-text-repr-fallback {display: none;}</style><div id=\"sk-container-id-6\" class=\"sk-top-container\"><div class=\"sk-text-repr-fallback\"><pre>BaggingRegressor(n_estimators=14, random_state=45)</pre><b>In a Jupyter environment, please rerun this cell to show the HTML representation or trust the notebook. <br />On GitHub, the HTML representation is unable to render, please try loading this page with nbviewer.org.</b></div><div class=\"sk-container\" hidden><div class=\"sk-item\"><div class=\"sk-estimator sk-toggleable\"><input class=\"sk-toggleable__control sk-hidden--visually\" id=\"sk-estimator-id-8\" type=\"checkbox\" checked><label for=\"sk-estimator-id-8\" class=\"sk-toggleable__label sk-toggleable__label-arrow\">BaggingRegressor</label><div class=\"sk-toggleable__content\"><pre>BaggingRegressor(n_estimators=14, random_state=45)</pre></div></div></div></div></div>"
      ],
      "text/plain": [
       "BaggingRegressor(n_estimators=14, random_state=45)"
      ]
     },
     "execution_count": 25,
     "metadata": {},
     "output_type": "execute_result"
    }
   ],
   "source": [
    "bag_tuned.fit(X_train, y_train)"
   ]
  },
  {
   "cell_type": "code",
   "execution_count": 26,
   "id": "8bb95d05",
   "metadata": {},
   "outputs": [],
   "source": [
    "y_pred = bag_tuned.predict(X_test)"
   ]
  },
  {
   "cell_type": "code",
   "execution_count": 27,
   "id": "fb69233a",
   "metadata": {},
   "outputs": [
    {
     "data": {
      "text/plain": [
       "459.58918618105673"
      ]
     },
     "execution_count": 27,
     "metadata": {},
     "output_type": "execute_result"
    }
   ],
   "source": [
    "np.sqrt(mean_squared_error(y_test, y_pred))"
   ]
  },
  {
   "cell_type": "code",
   "execution_count": null,
   "id": "1bba4264",
   "metadata": {},
   "outputs": [],
   "source": []
  }
 ],
 "metadata": {
  "kernelspec": {
   "display_name": "Python 3",
   "language": "python",
   "name": "python3"
  },
  "language_info": {
   "codemirror_mode": {
    "name": "ipython",
    "version": 3
   },
   "file_extension": ".py",
   "mimetype": "text/x-python",
   "name": "python",
   "nbconvert_exporter": "python",
   "pygments_lexer": "ipython3",
   "version": "3.9.16"
  }
 },
 "nbformat": 4,
 "nbformat_minor": 5
}
